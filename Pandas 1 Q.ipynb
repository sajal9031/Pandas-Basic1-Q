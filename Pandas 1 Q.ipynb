{
 "cells": [
  {
   "cell_type": "markdown",
   "id": "1fac994b-6d80-4db1-933c-5d55fef5e9ec",
   "metadata": {},
   "source": [
    "1.) Create a Pandas Series that contains the following data: 4, 8, 15, 16, 23, and 42. Then, print the series."
   ]
  },
  {
   "cell_type": "code",
   "execution_count": 8,
   "id": "b9d07962-31c9-41ce-b020-52219cd37372",
   "metadata": {},
   "outputs": [
    {
     "name": "stdout",
     "output_type": "stream",
     "text": [
      "0     4\n",
      "1     8\n",
      "2    15\n",
      "3    16\n",
      "4    23\n",
      "5    42\n",
      "dtype: int64\n"
     ]
    }
   ],
   "source": [
    "import pandas as pd\n",
    "data1 = [4, 8, 15, 16, 23, 42]\n",
    "my_series=pd.Series(data1)\n",
    "print(my_series)"
   ]
  },
  {
   "cell_type": "code",
   "execution_count": null,
   "id": "26a31c84-3c80-4a42-bb10-9b6f88c901d1",
   "metadata": {},
   "outputs": [],
   "source": []
  },
  {
   "cell_type": "code",
   "execution_count": null,
   "id": "c191c898-aca0-4c01-a889-637093b6440b",
   "metadata": {},
   "outputs": [],
   "source": [
    "2.) Create a variable of list type containing 10 elements in it, and apply pandas.Series function on the\n",
    "variable print it."
   ]
  },
  {
   "cell_type": "code",
   "execution_count": 9,
   "id": "09228dcb-0aea-4aad-8a36-78a1df3b13f4",
   "metadata": {},
   "outputs": [
    {
     "name": "stdout",
     "output_type": "stream",
     "text": [
      "0     4\n",
      "1     8\n",
      "2    15\n",
      "3    16\n",
      "4    23\n",
      "5    42\n",
      "6    56\n",
      "7    89\n",
      "8    78\n",
      "9    34\n",
      "dtype: int64\n"
     ]
    }
   ],
   "source": [
    "import pandas as pd\n",
    "data1 = [4, 8, 15, 16, 23, 42, 56, 89, 78, 34]\n",
    "my_series=pd.Series(data1)\n",
    "print(my_series)"
   ]
  },
  {
   "cell_type": "code",
   "execution_count": null,
   "id": "6063d36f-f1f0-4aed-8b74-ad8353218726",
   "metadata": {},
   "outputs": [],
   "source": []
  },
  {
   "cell_type": "code",
   "execution_count": null,
   "id": "92f77d3f-7d22-4d21-86af-3919d3b37fd7",
   "metadata": {},
   "outputs": [],
   "source": []
  },
  {
   "cell_type": "markdown",
   "id": "794efc51-76cd-4856-b4ed-f1c33ec92d6d",
   "metadata": {},
   "source": [
    "3.) Create a Pandas DataFrame that contains the following data:\n"
   ]
  },
  {
   "cell_type": "code",
   "execution_count": 12,
   "id": "427b3644-bbf8-4665-b47e-a71ed8f2b269",
   "metadata": {},
   "outputs": [
    {
     "name": "stdout",
     "output_type": "stream",
     "text": [
      "     name  age      State\n",
      "0   Sajal   27  Bangalore\n",
      "1  Poonam   24      Noida\n",
      "2   Pooja   26     Ranchi\n",
      "3   Sweta   27  Bangalore\n"
     ]
    }
   ],
   "source": [
    "import pandas as pd\n",
    "\n",
    "# Create a dictionary of data\n",
    "data = {'name': ['Sajal', 'Poonam', 'Pooja', 'Sweta'],\n",
    "        'age': [27, 24, 26, 27],\n",
    "        'State': ['Bangalore', 'Noida', 'Ranchi', 'Bangalore']}\n",
    "\n",
    "\n",
    "my_dataframe = pd.DataFrame(data)\n",
    "\n",
    "print(my_dataframe)"
   ]
  },
  {
   "cell_type": "code",
   "execution_count": null,
   "id": "6ea2db38-0ccb-4416-83fe-37d0d00f4baa",
   "metadata": {},
   "outputs": [],
   "source": []
  },
  {
   "cell_type": "markdown",
   "id": "dad9937a-8b64-4ff4-b4ba-9e7246687759",
   "metadata": {},
   "source": [
    "4.) What is ‘DataFrame’ in pandas and how is it different from pandas.series? Explain with an example."
   ]
  },
  {
   "cell_type": "markdown",
   "id": "9ab4836c-e347-447c-b6cd-5f506249fcae",
   "metadata": {},
   "source": [
    "In Pandas, a DataFrame is a 2-dimensional labeled data structure that is used for data manipulation and analysis. It is similar to a spreadsheet or SQL table, where data is organized in rows and columns. Each column in a DataFrame can have a different data type and can be labeled with a column name. Additionally, each row can be labeled with an index value.\n",
    "\n",
    "On the other hand, a Pandas Series is a one-dimensional labeled array that is capable of holding any data type. Each element in a Series is labeled with an index value. It is similar to a column in a DataFrame but without the column name."
   ]
  },
  {
   "cell_type": "code",
   "execution_count": 15,
   "id": "45e392e2-87e4-4fcf-a44a-377f47cda70d",
   "metadata": {},
   "outputs": [
    {
     "name": "stdout",
     "output_type": "stream",
     "text": [
      "DataFrame:\n",
      "     name  age      State\n",
      "0   Sajal   27  Bangalore\n",
      "1  Poonam   24      Noida\n",
      "2   Pooja   26     Ranchi\n",
      "3   Sweta   27  Bangalore\n",
      "\n",
      "Series:\n",
      "0    27\n",
      "1    24\n",
      "2    26\n",
      "3    27\n",
      "Name: age, dtype: int64\n"
     ]
    }
   ],
   "source": [
    "import pandas as pd\n",
    "\n",
    "# create a dictionary of data\n",
    "data = {'name': ['Sajal', 'Poonam', 'Pooja', 'Sweta'],\n",
    "        'age': [27, 24, 26, 27],\n",
    "        'State': ['Bangalore', 'Noida', 'Ranchi', 'Bangalore']}\n",
    "\n",
    "# create a Pandas DataFrame with the data\n",
    "df = pd.DataFrame(data)\n",
    "\n",
    "# create a Pandas Series from the 'age' column of the DataFrame\n",
    "series = df['age']\n",
    "\n",
    "# print the DataFrame and Series\n",
    "print(\"DataFrame:\")\n",
    "print(df)\n",
    "print(\"\\nSeries:\")\n",
    "print(series)"
   ]
  },
  {
   "cell_type": "code",
   "execution_count": null,
   "id": "c87ff095-ef14-4ef5-a00d-515a98d181ae",
   "metadata": {},
   "outputs": [],
   "source": []
  },
  {
   "cell_type": "markdown",
   "id": "09f91163-708d-440a-b5f9-6c9789cc0623",
   "metadata": {},
   "source": [
    "5.) What are some common functions you can use to manipulate data in a Pandas DataFrame? Can\n",
    "you give an example of when you might use one of these functions?"
   ]
  },
  {
   "cell_type": "markdown",
   "id": "8a332749-39c3-4ce3-a099-9d117a605691",
   "metadata": {},
   "source": [
    "Pandas provides a variety of functions for manipulating data in a DataFrame. Here are some of the most commonly used functions:\n",
    "\n",
    "head() and tail(): These functions can be used to view the first or last n rows of a DataFrame. For example, df.head(10) will return the first 10 rows of the DataFrame df.\n",
    "\n",
    "describe(): This function provides summary statistics for each numeric column in the DataFrame. For example, df.describe() will return the count, mean, standard deviation, minimum, maximum, and quartile values for each numeric column in the DataFrame.\n",
    "\n",
    "groupby(): This function is used to group rows in the DataFrame based on one or more columns, and then apply a function to each group. For example, df.groupby('country')['age'].mean() will group the DataFrame df by the 'country' column, and then calculate the mean age for each group.\n",
    "\n",
    "sort_values(): This function is used to sort the rows of the DataFrame by one or more columns. For example, df.sort_values('age') will sort the DataFrame df by the 'age' column in ascending order.\n",
    "\n",
    "dropna(): This function is used to remove any rows or columns from the DataFrame that contain missing values (NaN). For example, df.dropna() will remove any rows that contain missing values.\n",
    "\n",
    "fillna(): This function is used to replace missing values (NaN) in the DataFrame with a specified value. For example, df.fillna(0) will replace any missing values in the DataFrame df with 0.\n",
    "\n",
    "merge(): This function is used to merge two DataFrames based on a common column. For example, pd.merge(df1, df2, on='key') will merge the DataFrames df1 and df2 based on the 'key' column."
   ]
  },
  {
   "cell_type": "code",
   "execution_count": null,
   "id": "26456235-0854-4838-8098-3d67f0893293",
   "metadata": {},
   "outputs": [],
   "source": []
  },
  {
   "cell_type": "markdown",
   "id": "fe184f3d-4046-4668-a194-baefb6c5679e",
   "metadata": {},
   "source": [
    "6.)Which of the following is mutable in nature Series, DataFrame, Panel?"
   ]
  },
  {
   "cell_type": "markdown",
   "id": "55311736-f0e8-4ddb-af9f-19032ae18198",
   "metadata": {},
   "source": [
    "Both Series and DataFrame are mutable in nature. Panel, on the other hand, is considered deprecated in the current version of Pandas and replaced by other data structures like MultiIndex or xarray."
   ]
  },
  {
   "cell_type": "code",
   "execution_count": null,
   "id": "adc0a278-3498-4dd3-8325-228e6c8b244d",
   "metadata": {},
   "outputs": [],
   "source": []
  },
  {
   "cell_type": "markdown",
   "id": "fc7380af-8496-4386-89a5-d5080d3b4abd",
   "metadata": {},
   "source": [
    "7.) Create a DataFrame using multiple Series. Explain with an example."
   ]
  },
  {
   "cell_type": "code",
   "execution_count": 17,
   "id": "3a258f84-5194-4e15-9b3c-da332a02304d",
   "metadata": {},
   "outputs": [
    {
     "name": "stdout",
     "output_type": "stream",
     "text": [
      "     Name  Age  Gender\n",
      "0   Sajal   27    Male\n",
      "1  Poonam   24  Female\n",
      "2   Pooja   26  Female\n",
      "3   Sweta   27  Female\n"
     ]
    }
   ],
   "source": [
    "import pandas as pd\n",
    "\n",
    "# Create the first Series\n",
    "names = pd.Series(['Sajal', 'Poonam', 'Pooja', 'Sweta'])\n",
    "\n",
    "# Create the second Series\n",
    "ages = pd.Series([27,24,26,27])\n",
    "\n",
    "# Create the third Series\n",
    "genders = pd.Series(['Male', 'Female', 'Female', 'Female'])\n",
    "\n",
    "# Create the DataFrame using the dictionary of Series\n",
    "df = pd.DataFrame({'Name': names, 'Age': ages, 'Gender': genders})\n",
    "\n",
    "# Print the DataFrame\n",
    "print(df)\n"
   ]
  },
  {
   "cell_type": "code",
   "execution_count": null,
   "id": "8271f2c3-5fcb-433b-b889-021a837a8a23",
   "metadata": {},
   "outputs": [],
   "source": []
  }
 ],
 "metadata": {
  "kernelspec": {
   "display_name": "Python 3 (ipykernel)",
   "language": "python",
   "name": "python3"
  },
  "language_info": {
   "codemirror_mode": {
    "name": "ipython",
    "version": 3
   },
   "file_extension": ".py",
   "mimetype": "text/x-python",
   "name": "python",
   "nbconvert_exporter": "python",
   "pygments_lexer": "ipython3",
   "version": "3.10.8"
  }
 },
 "nbformat": 4,
 "nbformat_minor": 5
}
